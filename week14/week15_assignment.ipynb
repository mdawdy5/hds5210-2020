{
 "cells": [
  {
   "cell_type": "markdown",
   "metadata": {
    "nbgrader": {
     "grade": false,
     "grade_id": "intro",
     "locked": true,
     "schema_version": 1,
     "solution": false
    }
   },
   "source": [
    "# Working with a database\n",
    "\n",
    "This week's assignment has a few basic steps.  First, we're going to pull some data down off the internet and store it into our MySQL database.  Make sure that you use your username as part of the table name as show in the examples so that you don't create a problem for other students.\n",
    "\n",
    "Then, we'll merge that with some data already in the database and calculate a few results.  When it comes to calculating the results, you can do so either with SQL or with Pandas operations.\n"
   ]
  },
  {
   "cell_type": "markdown",
   "metadata": {
    "nbgrader": {
     "grade": false,
     "grade_id": "q01-intro",
     "locked": true,
     "schema_version": 1,
     "solution": false
    }
   },
   "source": [
    "## PART 1: Setup your database connection and table name\n",
    "\n",
    "In the code below, change the value of the variable `MYTABLE` to use your own username rather that `'pboal'`\n",
    "\n",
    "You can then use `MYTABLE` in the rest of your code to reference that table name."
   ]
  },
  {
   "cell_type": "code",
   "execution_count": null,
   "metadata": {
    "nbgrader": {
     "grade": false,
     "grade_id": "q01-solution",
     "locked": false,
     "schema_version": 1,
     "solution": true
    }
   },
   "outputs": [],
   "source": [
    "#!#!#!#!#!#!#!#!#!#!#!#!#!#!#!#!#!#!#!#!#!#!#!#!#!#!#!#!#!#!\n",
    "# First, put in your user name below\n",
    "#!#!#!#!#!#!#!#!#!#!#!#!#!#!#!#!#!#!#!#!#!#!#!#!#!#!#!#!#!#!\n",
    "\n",
    "MYTABLE='paulboal' + '_data'\n",
    "\n",
    "\n",
    "# Then, create a connection to the same database, using the \n",
    "# same user name and password in the `mysql-examples.ipynb` \n",
    "# file.  Use conn as the database connection variable.\n",
    "\n",
    "conn = None\n"
   ]
  },
  {
   "cell_type": "code",
   "execution_count": null,
   "metadata": {
    "nbgrader": {
     "grade": true,
     "grade_id": "q01-tests",
     "locked": true,
     "points": 5,
     "schema_version": 1,
     "solution": false
    }
   },
   "outputs": [],
   "source": [
    "assert(MYTABLE != 'paulboal_data')\n",
    "assert(conn.connect())"
   ]
  },
  {
   "cell_type": "markdown",
   "metadata": {
    "nbgrader": {
     "grade": false,
     "grade_id": "q02-intro",
     "locked": true,
     "schema_version": 1,
     "solution": false
    }
   },
   "source": [
    "## PART 2: Bring in outside data\n",
    "\n",
    "Grab the data from this URL and put it into a database table named with your `username_data`.\n",
    "\n",
    "http://dhcs-chhsagency.opendata.arcgis.com/datasets/8e4f3a0c75b9424d888d11c1f949cc32_0.csv\n",
    "\n",
    "By the end of your cell, the table should be created.  The tests are going to verify that the table exists and looks right."
   ]
  },
  {
   "cell_type": "code",
   "execution_count": null,
   "metadata": {
    "nbgrader": {
     "grade": false,
     "grade_id": "q02-solution",
     "locked": false,
     "schema_version": 1,
     "solution": true
    }
   },
   "outputs": [],
   "source": [
    "url = 'http://dhcs-chhsagency.opendata.arcgis.com/datasets/8e4f3a0c75b9424d888d11c1f949cc32_0.csv'\n",
    "\n",
    "### SOLUTION GOES HERE\n"
   ]
  },
  {
   "cell_type": "code",
   "execution_count": null,
   "metadata": {
    "nbgrader": {
     "grade": true,
     "grade_id": "q02-tests",
     "locked": true,
     "points": 5,
     "schema_version": 1,
     "solution": false
    }
   },
   "outputs": [],
   "source": [
    "dxyz = pd.read_sql_query('SELECT * FROM ' + MYTABLE, conn)\n",
    "assert(dxyz.shape == (328,22))\n",
    "assert(list(dxyz.columns) == ['index', 'X', 'Y', 'Provider_Name', 'NPI', 'CCN',\n",
    "       'Medicaid_EP_Hospital_Type', 'Street_Address', 'City', 'County',\n",
    "       'State', 'Zip_Code', 'Payment_Year_Number', 'Program_Type',\n",
    "       'Total_payments', 'Last_Program_Year', 'Last_Payment_Year',\n",
    "       'Last_Payment_Criteria', 'Most_Recent_Disbursement_Amount', 'LONGITUDE',\n",
    "       'LATITUDE', 'FID'])"
   ]
  },
  {
   "cell_type": "markdown",
   "metadata": {
    "nbgrader": {
     "grade": false,
     "grade_id": "q03-intro",
     "locked": true,
     "schema_version": 1,
     "solution": false
    }
   },
   "source": [
    "## PART 3: Combine with other data in the database\n",
    "\n",
    "In the database, there is an existing table called `population`.  We want to merge the DHCS datafile loaded above with the population data available in this other database table  The tables can be merged on `MYTABLE`'s `Zip_Code` field and `population`'s `zipcode` field.\n",
    "\n",
    "Note that not all `Zip_Codes` from your downloaded file have to be in the `population` table.  If they aren't, then I want you to eliminate the non-matching records.  That is, only keep the records that have a matching ZIP code in both sets of data.\n",
    "\n",
    "Answer the question:\n",
    "Which providers are located in the zipcode with the largest population?\n",
    "\n",
    "Put your answer in the form `answer = ['a', 'list', 'of', 'NPI', 'like', '1593042103]`"
   ]
  },
  {
   "cell_type": "code",
   "execution_count": null,
   "metadata": {
    "nbgrader": {
     "grade": false,
     "grade_id": "q03-solution",
     "locked": false,
     "schema_version": 1,
     "solution": true
    }
   },
   "outputs": [],
   "source": [
    "### SOLUTION GOES HERE\n",
    "answer = []"
   ]
  },
  {
   "cell_type": "code",
   "execution_count": null,
   "metadata": {
    "nbgrader": {
     "grade": true,
     "grade_id": "q03-tests",
     "locked": true,
     "points": 5,
     "schema_version": 1,
     "solution": false
    }
   },
   "outputs": [],
   "source": [
    "assert(type(answer) == list)\n",
    "assert(answer == ['1194016923'])"
   ]
  },
  {
   "cell_type": "markdown",
   "metadata": {
    "nbgrader": {
     "grade": false,
     "grade_id": "q04-intro",
     "locked": true,
     "schema_version": 1,
     "solution": false
    }
   },
   "source": [
    "## PART 4: Total by hospital type\n",
    "\n",
    "This is a multistep process:\n",
    "* From our downloaded data file, compute the `Total payments` per ZIP code and Medicaid EP Hospital Type.\n",
    "* Then merge that with the `population` data to compute a `Total payments` per person.\n",
    "* Then average that across all of the `Medicaid EP Hospital Types` to get an average per persona payment for these type of hospital.\n",
    "\n",
    "Your answer should be in structure of a data frame with at least two columns:\n",
    "* Medicaid_EP_Hospital_Type\n",
    "* Avg_Pay_per_Capita"
   ]
  },
  {
   "cell_type": "code",
   "execution_count": null,
   "metadata": {
    "nbgrader": {
     "grade": false,
     "grade_id": "q04-solution",
     "locked": false,
     "schema_version": 1,
     "solution": true
    }
   },
   "outputs": [],
   "source": [
    "### SOLUTION GOES HERE\n",
    "answer = None"
   ]
  },
  {
   "cell_type": "code",
   "execution_count": null,
   "metadata": {
    "nbgrader": {
     "grade": true,
     "grade_id": "q04-tests",
     "locked": true,
     "points": 5,
     "schema_version": 1,
     "solution": false
    }
   },
   "outputs": [],
   "source": [
    "assert(type(answer) == pd.core.frame.DataFrame)\n",
    "assert(round(answer.query(\"Medicaid_EP_Hospital_Type == 'Acute Care Hospitals'\")['Avg_Pay_per_Capita'].sum(),3) == 17974.363)\n",
    "assert(round(answer.query(\"Medicaid_EP_Hospital_Type == 'Children\\\\'s Hospitals'\")['Avg_Pay_per_Capita'].sum(),3) == 111.559)\n"
   ]
  }
 ],
 "metadata": {
  "celltoolbar": "Create Assignment",
  "kernelspec": {
   "display_name": "Python 3",
   "language": "python",
   "name": "python3"
  },
  "language_info": {
   "codemirror_mode": {
    "name": "ipython",
    "version": 3
   },
   "file_extension": ".py",
   "mimetype": "text/x-python",
   "name": "python",
   "nbconvert_exporter": "python",
   "pygments_lexer": "ipython3",
   "version": "3.6.7"
  }
 },
 "nbformat": 4,
 "nbformat_minor": 2
}
