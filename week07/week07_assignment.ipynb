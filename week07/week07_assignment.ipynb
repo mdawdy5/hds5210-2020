{
 "cells": [
  {
   "cell_type": "markdown",
   "metadata": {},
   "source": [
    "# Week 7 Assignment\n",
    "\n",
    "This week has been all about getting information off the internet both in structured data formats (CSV, JSON, etc) as well as HTML.  Answer the questions below as instructed."
   ]
  },
  {
   "cell_type": "markdown",
   "metadata": {},
   "source": [
    "### 31.1 Finding files on the internet\n",
    "\n",
    "Go to healthdata.gov and find a file that looks interesting to you.  Provide the metadata below that describes the file you located.\n",
    "\n",
    "The cell below is a \"markdown\" cell.  Just double-click it to edit the contents and then Shift-Enter to show the content as formatted text.\n",
    "\n",
    "---"
   ]
  },
  {
   "cell_type": "markdown",
   "metadata": {},
   "source": [
    "**File Name:**  Name goes here\n",
    "\n",
    "**URL to Page:** https://...\n",
    "\n",
    "**Description:** Something about what kind of data this file contains and why it seems interesting\n",
    "\n",
    "**URL to Actual File:** https://...\n",
    "\n",
    "**File Format:** CSV, JSON, ???\n",
    "\n"
   ]
  },
  {
   "cell_type": "markdown",
   "metadata": {},
   "source": [
    "---"
   ]
  },
  {
   "cell_type": "markdown",
   "metadata": {},
   "source": [
    "### 31.2 Use Pandas to load data from internet\n",
    "\n",
    "Now write a block of code (doesn't need to be in a function) that will load the file using Pandas and describe the shape of the file contents.  I've provided a cell with some comments in it to help get you started.\n",
    "\n",
    "Pandas documentation for loading data https://pandas.pydata.org/pandas-docs/version/0.23.4/api.html#input-output\n",
    "\n",
    "Pandas documentation for describing the shape of data https://pandas.pydata.org/pandas-docs/version/0.23.4/generated/pandas.DataFrame.shape.html"
   ]
  },
  {
   "cell_type": "code",
   "execution_count": 14,
   "metadata": {},
   "outputs": [],
   "source": [
    "import pandas as pd\n",
    "\n",
    "url = \"https://data.colorado.gov/api/views/5yqk-p422/rows.csv?accessType=DOWNLOAD\"\n",
    "coloradodata = pd.read_csv(url)\n",
    "\n",
    "\n",
    "    \n",
    "# Print out the row / column count\n",
    "# data. ...\n",
    "\n"
   ]
  },
  {
   "cell_type": "code",
   "execution_count": 15,
   "metadata": {},
   "outputs": [],
   "source": [
    "df = pd.DataFrame(coloradodata)"
   ]
  },
  {
   "cell_type": "code",
   "execution_count": 17,
   "metadata": {},
   "outputs": [
    {
     "name": "stdout",
     "output_type": "stream",
     "text": [
      "row and column count of this data set(9, 3)\n"
     ]
    },
    {
     "data": {
      "text/html": [
       "<div>\n",
       "<style scoped>\n",
       "    .dataframe tbody tr th:only-of-type {\n",
       "        vertical-align: middle;\n",
       "    }\n",
       "\n",
       "    .dataframe tbody tr th {\n",
       "        vertical-align: top;\n",
       "    }\n",
       "\n",
       "    .dataframe thead th {\n",
       "        text-align: right;\n",
       "    }\n",
       "</style>\n",
       "<table border=\"1\" class=\"dataframe\">\n",
       "  <thead>\n",
       "    <tr style=\"text-align: right;\">\n",
       "      <th></th>\n",
       "      <th>&lt;response&gt;&lt;row&gt;&lt;row _id=\"row-5347_hgmg_mmih\" _uuid=\"00000000-0000-0000-58A6-E10920DDD7A5\" _position=\"0\" _address=\"https://data.colorado.gov/resource/_5yqk-p422/row-5347_hgmg_mmih\"&gt;&lt;reported_condition&gt;Cachexia&lt;/reported_condition&gt;&lt;number_of_patients_reporting_condition&gt;1155&lt;/number_of_patients_reporting_condition&gt;&lt;percent_of_patients_reporting_condition&gt;1.00&lt;/percent_of_patients_reporting_condition&gt;&lt;/row&gt;&lt;row _id=\"row-upqe_ccu9~cx7u\" _uuid=\"00000000-0000-0000-7548-BE9DD8C9944F\" _position=\"0\" _address=\"https://data.colorado.gov/resource/_5yqk-p422/row-upqe_ccu9~cx7u\"&gt;&lt;reported_condition&gt;Cancer&lt;/reported_condition&gt;&lt;number_of_patients_reporting_condition&gt;3454&lt;/number_of_patients_reporting_condition&gt;&lt;percent_of_patients_reporting_condition&gt;3.00&lt;/percent_of_patients_reporting_condition&gt;&lt;/row&gt;&lt;row _id=\"row-2wza~zv34-nj2f\" _uuid=\"00000000-0000-0000-7D7C-2EBE11EEBA64\" _position=\"0\" _address=\"https://data.colorado.gov/resource/_5yqk-p422/row-2wza~zv34-nj2f\"&gt;&lt;reported_condition&gt;Glaucoma&lt;/reported_condition&gt;&lt;number_of_patients_reporting_condition&gt;1198&lt;/number_of_patients_reporting_condition&gt;&lt;percent_of_patients_reporting_condition&gt;1.00&lt;/percent_of_patients_reporting_condition&gt;&lt;/row&gt;&lt;row _id=\"row-hec5.vcu8-a8z7\" _uuid=\"00000000-0000-0000-7B5C-C8EF2BD3AC11\" _position=\"0\" _address=\"https://data.colorado.gov/resource/_5yqk-p422/row-hec5.vcu8-a8z7\"&gt;&lt;reported_condition&gt;HIV/AIDS&lt;/reported_condition&gt;&lt;number_of_patients_reporting_condition&gt;679&lt;/number_of_patients_reporting_condition&gt;&lt;percent_of_patients_reporting_condition&gt;1.00&lt;/percent_of_patients_reporting_condition&gt;&lt;/row&gt;&lt;row _id=\"row-33yd~apqp.5xj5\" _uuid=\"00000000-0000-0000-5DD2-75CCC8EEB240\" _position=\"0\" _address=\"https://data.colorado.gov/resource/_5yqk-p422/row-33yd~apqp.5xj5\"&gt;&lt;reported_condition&gt;Muscle Spasms&lt;/reported_condition&gt;&lt;number_of_patients_reporting_condition&gt;15702&lt;/number_of_patients_reporting_condition&gt;&lt;percent_of_patients_reporting_condition&gt;14.00&lt;/percent_of_patients_reporting_condition&gt;&lt;/row&gt;&lt;row _id=\"row-g8z9.syxj_3d9b\" _uuid=\"00000000-0000-0000-D036-7C4A47CB1AB9\" _position=\"0\" _address=\"https://data.colorado.gov/resource/_5yqk-p422/row-g8z9.syxj_3d9b\"&gt;&lt;reported_condition&gt;Seizures&lt;/reported_condition&gt;&lt;number_of_patients_reporting_condition&gt;2338&lt;/number_of_patients_reporting_condition&gt;&lt;percent_of_patients_reporting_condition&gt;2.00&lt;/percent_of_patients_reporting_condition&gt;&lt;/row&gt;&lt;row _id=\"row-zydj~mbtu-eyid\" _uuid=\"00000000-0000-0000-9F0E-1CEC709FC207\" _position=\"0\" _address=\"https://data.colorado.gov/resource/_5yqk-p422/row-zydj~mbtu-eyid\"&gt;&lt;reported_condition&gt;Severe Pain&lt;/reported_condition&gt;&lt;number_of_patients_reporting_condition&gt;108635&lt;/number_of_patients_reporting_condition&gt;&lt;percent_of_patients_reporting_condition&gt;94.00&lt;/percent_of_patients_reporting_condition&gt;&lt;/row&gt;&lt;row _id=\"row-5egf_qq6a~h4p9\" _uuid=\"00000000-0000-0000-8078-CA75A7D7B072\" _position=\"0\" _address=\"https://data.colorado.gov/resource/_5yqk-p422/row-5egf_qq6a~h4p9\"&gt;&lt;reported_condition&gt;Severe Nausea&lt;/reported_condition&gt;&lt;number_of_patients_reporting_condition&gt;11218&lt;/number_of_patients_reporting_condition&gt;&lt;percent_of_patients_reporting_condition&gt;1.00&lt;/percent_of_patients_reporting_condition&gt;&lt;/row&gt;&lt;row _id=\"row-ipz7.qmic~sncm\" _uuid=\"00000000-0000-0000-2D38-208D5F9803C8\" _position=\"0\" _address=\"https://data.colorado.gov/resource/_5yqk-p422/row-ipz7.qmic~sncm\"/&gt;&lt;/row&gt;&lt;/response&gt;</th>\n",
       "    </tr>\n",
       "  </thead>\n",
       "  <tbody>\n",
       "  </tbody>\n",
       "</table>\n",
       "</div>"
      ],
      "text/plain": [
       "Empty DataFrame\n",
       "Columns: [<response><row><row _id=\"row-5347_hgmg_mmih\" _uuid=\"00000000-0000-0000-58A6-E10920DDD7A5\" _position=\"0\" _address=\"https://data.colorado.gov/resource/_5yqk-p422/row-5347_hgmg_mmih\"><reported_condition>Cachexia</reported_condition><number_of_patients_reporting_condition>1155</number_of_patients_reporting_condition><percent_of_patients_reporting_condition>1.00</percent_of_patients_reporting_condition></row><row _id=\"row-upqe_ccu9~cx7u\" _uuid=\"00000000-0000-0000-7548-BE9DD8C9944F\" _position=\"0\" _address=\"https://data.colorado.gov/resource/_5yqk-p422/row-upqe_ccu9~cx7u\"><reported_condition>Cancer</reported_condition><number_of_patients_reporting_condition>3454</number_of_patients_reporting_condition><percent_of_patients_reporting_condition>3.00</percent_of_patients_reporting_condition></row><row _id=\"row-2wza~zv34-nj2f\" _uuid=\"00000000-0000-0000-7D7C-2EBE11EEBA64\" _position=\"0\" _address=\"https://data.colorado.gov/resource/_5yqk-p422/row-2wza~zv34-nj2f\"><reported_condition>Glaucoma</reported_condition><number_of_patients_reporting_condition>1198</number_of_patients_reporting_condition><percent_of_patients_reporting_condition>1.00</percent_of_patients_reporting_condition></row><row _id=\"row-hec5.vcu8-a8z7\" _uuid=\"00000000-0000-0000-7B5C-C8EF2BD3AC11\" _position=\"0\" _address=\"https://data.colorado.gov/resource/_5yqk-p422/row-hec5.vcu8-a8z7\"><reported_condition>HIV/AIDS</reported_condition><number_of_patients_reporting_condition>679</number_of_patients_reporting_condition><percent_of_patients_reporting_condition>1.00</percent_of_patients_reporting_condition></row><row _id=\"row-33yd~apqp.5xj5\" _uuid=\"00000000-0000-0000-5DD2-75CCC8EEB240\" _position=\"0\" _address=\"https://data.colorado.gov/resource/_5yqk-p422/row-33yd~apqp.5xj5\"><reported_condition>Muscle Spasms</reported_condition><number_of_patients_reporting_condition>15702</number_of_patients_reporting_condition><percent_of_patients_reporting_condition>14.00</percent_of_patients_reporting_condition></row><row _id=\"row-g8z9.syxj_3d9b\" _uuid=\"00000000-0000-0000-D036-7C4A47CB1AB9\" _position=\"0\" _address=\"https://data.colorado.gov/resource/_5yqk-p422/row-g8z9.syxj_3d9b\"><reported_condition>Seizures</reported_condition><number_of_patients_reporting_condition>2338</number_of_patients_reporting_condition><percent_of_patients_reporting_condition>2.00</percent_of_patients_reporting_condition></row><row _id=\"row-zydj~mbtu-eyid\" _uuid=\"00000000-0000-0000-9F0E-1CEC709FC207\" _position=\"0\" _address=\"https://data.colorado.gov/resource/_5yqk-p422/row-zydj~mbtu-eyid\"><reported_condition>Severe Pain</reported_condition><number_of_patients_reporting_condition>108635</number_of_patients_reporting_condition><percent_of_patients_reporting_condition>94.00</percent_of_patients_reporting_condition></row><row _id=\"row-5egf_qq6a~h4p9\" _uuid=\"00000000-0000-0000-8078-CA75A7D7B072\" _position=\"0\" _address=\"https://data.colorado.gov/resource/_5yqk-p422/row-5egf_qq6a~h4p9\"><reported_condition>Severe Nausea</reported_condition><number_of_patients_reporting_condition>11218</number_of_patients_reporting_condition><percent_of_patients_reporting_condition>1.00</percent_of_patients_reporting_condition></row><row _id=\"row-ipz7.qmic~sncm\" _uuid=\"00000000-0000-0000-2D38-208D5F9803C8\" _position=\"0\" _address=\"https://data.colorado.gov/resource/_5yqk-p422/row-ipz7.qmic~sncm\"/></row></response>]\n",
       "Index: []"
      ]
     },
     "execution_count": 17,
     "metadata": {},
     "output_type": "execute_result"
    }
   ],
   "source": [
    "# Print out the row / column count\n",
    "# data. ...\n",
    "\n",
    "print(\"row and column count of this data set\" + str(df.shape))\n",
    "\n",
    "data"
   ]
  },
  {
   "cell_type": "markdown",
   "metadata": {},
   "source": [
    "---"
   ]
  },
  {
   "cell_type": "markdown",
   "metadata": {},
   "source": [
    "### 32.1 HTML Basics\n",
    "\n",
    "HTML is a form of which othere data format we've talked about:\n",
    "\n",
    "> A) Binary\n",
    ">\n",
    "> B) eXtensible Markup Language\n",
    "> \n",
    "> C) JavaScript Object Notation\n",
    ">\n",
    "> D) HL7 FHIR"
   ]
  },
  {
   "cell_type": "code",
   "execution_count": null,
   "metadata": {},
   "outputs": [],
   "source": [
    "answer321 = \"c\""
   ]
  },
  {
   "cell_type": "markdown",
   "metadata": {},
   "source": [
    "### 32.2 Things in HTML\n",
    "\n",
    "Which of the following is **not** a part of HTML:\n",
    "\n",
    "> A) element\n",
    "> \n",
    "> B) tag\n",
    ">\n",
    "> C) dictionary\n",
    ">\n",
    "> D) attribute"
   ]
  },
  {
   "cell_type": "code",
   "execution_count": null,
   "metadata": {},
   "outputs": [],
   "source": [
    "answer322 = \"c\""
   ]
  },
  {
   "cell_type": "markdown",
   "metadata": {},
   "source": [
    "### 32.3 Parsing HTML in Python\n",
    "\n",
    "Which of the following packages can be used to extract a table of data from HTML using Python (include all that apply in a list):\n",
    "\n",
    "> A) lxml\n",
    "> \n",
    "> B) BeautifulSoup\n",
    ">\n",
    "> C) Pandas \n",
    ">\n",
    "> D) fuzzywuzzy"
   ]
  },
  {
   "cell_type": "code",
   "execution_count": null,
   "metadata": {},
   "outputs": [],
   "source": [
    "answer323 = [\"b\",\"c\"]"
   ]
  }
 ],
 "metadata": {
  "kernelspec": {
   "display_name": "Python 3",
   "language": "python",
   "name": "python3"
  },
  "language_info": {
   "codemirror_mode": {
    "name": "ipython",
    "version": 3
   },
   "file_extension": ".py",
   "mimetype": "text/x-python",
   "name": "python",
   "nbconvert_exporter": "python",
   "pygments_lexer": "ipython3",
   "version": "3.6.7"
  }
 },
 "nbformat": 4,
 "nbformat_minor": 4
}
